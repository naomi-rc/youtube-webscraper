{
  "nbformat": 4,
  "nbformat_minor": 0,
  "metadata": {
    "colab": {
      "name": "Youtube-Webscraper.ipynb",
      "provenance": [],
      "authorship_tag": "ABX9TyNYzZEOxsLalW1TuXVLdgFa",
      "include_colab_link": true
    },
    "kernelspec": {
      "name": "python3",
      "display_name": "Python 3"
    }
  },
  "cells": [
    {
      "cell_type": "markdown",
      "metadata": {
        "id": "view-in-github",
        "colab_type": "text"
      },
      "source": [
        "<a href=\"https://colab.research.google.com/github/naomi-rc/youtube-webscraper/blob/master/Youtube_Webscraper.ipynb\" target=\"_parent\"><img src=\"https://colab.research.google.com/assets/colab-badge.svg\" alt=\"Open In Colab\"/></a>"
      ]
    },
    {
      "cell_type": "code",
      "metadata": {
        "id": "AoIJ61JnWYCd",
        "colab_type": "code",
        "outputId": "7e776fa6-ce08-4607-a024-b2c8958dbfb5",
        "colab": {
          "base_uri": "https://localhost:8080/",
          "height": 176
        }
      },
      "source": [
        "import requests, urllib.request, time, re\n",
        "from bs4 import BeautifulSoup\n",
        "\n",
        "STATUS_OK = 200\n",
        "MAX_IMAGES = 10\n",
        "YOUTUBE_URL = \"https://www.youtube.com/\"\n",
        "info_index = 0\n",
        "vid_index = info_index + 1\n",
        "invalid_images = 0\n",
        "\n",
        "\n",
        "def downloadImage(url, title):\n",
        "  title = title.replace(\"/\", \"\") + \".jpg\"\n",
        "  urllib.request.urlretrieve(url, title)\n",
        "\n",
        "\n",
        "response = requests.get(YOUTUBE_URL)\n",
        "\n",
        "if response.status_code == STATUS_OK:\n",
        "  \n",
        "  data = BeautifulSoup(response.text, \"html.parser\")\n",
        "\n",
        "  videos = data.findAll(\"div\", {\"class\":\"video-thumb\"})\n",
        "  infos = data.findAll(\"h3\", {\"class\":\"yt-lockup-title\"})\n",
        "\n",
        "  regex = re.compile(r'^https:\\/\\/.{1,}')\n",
        "\n",
        "  while vid_index <= MAX_IMAGES:\n",
        "    img_url = videos[vid_index].find(\"img\")[\"src\"]\n",
        "\n",
        "    if re.match(regex, img_url) is not None:\n",
        "      title = infos[info_index].find(\"a\")[\"title\"]\n",
        "      print(\"Saving image thumbnail: \" + title)\n",
        "      downloadImage(img_url, title)      \n",
        "      time.sleep(1)\n",
        "    else:\n",
        "      invalid_images += 1\n",
        "\n",
        "    vid_index +=  1\n",
        "    info_index += 1\n",
        "\n",
        "  print(f'\\nDONE. Saved {MAX_IMAGES - invalid_images} image(s). {invalid_images} image URLS invalid.')"
      ],
      "execution_count": 57,
      "outputs": [
        {
          "output_type": "stream",
          "text": [
            "Saving image thumbnail: Shakira & J. Lo's FULL Pepsi Super Bowl LIV Halftime Show\n",
            "Saving image thumbnail: Tyler, The Creator - EARFQUAKE / NEW MAGIC WAND (Live at the 2020 GRAMMYs)\n",
            "Saving image thumbnail: Dua Lipa - Physical (Official Video)\n",
            "Saving image thumbnail: “7 rings / thank u, next / imagine / my favorite things” (Live From The 62nd GRAMMYs ® ...\n",
            "Saving image thumbnail: Demi Lovato - Anyone (Live From The 62nd GRAMMYs ® / 2020)\n",
            "Saving image thumbnail: Gorillaz - Momentary Bliss ft. slowthai & Slaves (Episode One)\n",
            "\n",
            "DONE. Saved 6 image(s). 4 image URLS invalid.\n"
          ],
          "name": "stdout"
        }
      ]
    },
    {
      "cell_type": "code",
      "metadata": {
        "id": "JddDqNZdcWFW",
        "colab_type": "code",
        "colab": {}
      },
      "source": [
        ""
      ],
      "execution_count": 0,
      "outputs": []
    }
  ]
}