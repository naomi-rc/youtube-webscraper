{
  "nbformat": 4,
  "nbformat_minor": 0,
  "metadata": {
    "colab": {
      "name": "Untitled1.ipynb",
      "provenance": [],
      "authorship_tag": "ABX9TyNAszS62tzbakAKkddZIgb5",
      "include_colab_link": true
    },
    "kernelspec": {
      "name": "python3",
      "display_name": "Python 3"
    }
  },
  "cells": [
    {
      "cell_type": "markdown",
      "metadata": {
        "id": "view-in-github",
        "colab_type": "text"
      },
      "source": [
        "<a href=\"https://colab.research.google.com/github/naomi-rc/youtube-webscraper/blob/master/script.ipynb\" target=\"_parent\"><img src=\"https://colab.research.google.com/assets/colab-badge.svg\" alt=\"Open In Colab\"/></a>"
      ]
    },
    {
      "cell_type": "code",
      "metadata": {
        "id": "AoIJ61JnWYCd",
        "colab_type": "code",
        "outputId": "f9417235-a3d4-4edc-82a0-e5f27ba81378",
        "colab": {
          "base_uri": "https://localhost:8080/",
          "height": 350
        }
      },
      "source": [
        "import requests, urllib.request, time, re\n",
        "from bs4 import BeautifulSoup\n",
        "\n",
        "\n",
        "def downloadImage(url, title):\n",
        "  title = title.replace(\"/\", \"\")\n",
        "  print(urllib.request.urlretrieve(url, title+ \".jpg\"))\n",
        "\n",
        "url = \"https://www.youtube.com/\"\n",
        "\n",
        "response = requests.get(url)\n",
        "\n",
        "if response.status_code == 200:\n",
        "  info_index = 0\n",
        "  vid_index = info_index + 1\n",
        "  data = BeautifulSoup(response.text, \"html.parser\")\n",
        "\n",
        "  videos = data.findAll(\"div\", {\"class\":\"video-thumb\"})\n",
        "  infos = data.findAll(\"h3\", {\"class\":\"yt-lockup-title\"})\n",
        "\n",
        "  regex = re.compile(r'^https:\\/\\/.{1,}')\n",
        "\n",
        "  while vid_index < 10:\n",
        "    img_url = videos[vid_index].find(\"img\")[\"src\"]\n",
        "    if re.match(regex, img_url) is not None:\n",
        "      title = infos[info_index].find(\"a\")[\"title\"]\n",
        "      #link = infos[info_index].find(\"a\")[\"href\"]\n",
        "      downloadImage(img_url, title)\n",
        "      time.sleep(1)\n",
        "    else:\n",
        "      print(\"Found invalid image URL.\")\n",
        "\n",
        "    vid_index = vid_index + 1\n",
        "    info_index = info_index + 1\n",
        "    print(vid_index)\n",
        "\n",
        "  \n",
        "  \n"
      ],
      "execution_count": 46,
      "outputs": [
        {
          "output_type": "stream",
          "text": [
            "(\"Shakira & J. Lo's FULL Pepsi Super Bowl LIV Halftime Show.jpg\", <http.client.HTTPMessage object at 0x7f3cafeeafd0>)\n",
            "2\n",
            "('Tyler, The Creator - EARFQUAKE  NEW MAGIC WAND (Live at the 2020 GRAMMYs).jpg', <http.client.HTTPMessage object at 0x7f3cafef20b8>)\n",
            "3\n",
            "('EVERGLOW (에버글로우) - DUN DUN MV.jpg', <http.client.HTTPMessage object at 0x7f3cafef20b8>)\n",
            "4\n",
            "('Gorillaz - Momentary Bliss ft. slowthai & Slaves (Episode One).jpg', <http.client.HTTPMessage object at 0x7f3caff05048>)\n",
            "5\n",
            "('“7 rings  thank u, next  imagine  my favorite things” (Live From The 62nd GRAMMYs ® ....jpg', <http.client.HTTPMessage object at 0x7f3cafef2048>)\n",
            "6\n",
            "('The Kid LAROI - Diva ft. Lil Tecca (Dir. by @_ColeBennett_).jpg', <http.client.HTTPMessage object at 0x7f3caff05048>)\n",
            "7\n",
            "Found invalid image URL.\n",
            "8\n",
            "Found invalid image URL.\n",
            "9\n",
            "Found invalid image URL.\n",
            "10\n"
          ],
          "name": "stdout"
        }
      ]
    },
    {
      "cell_type": "code",
      "metadata": {
        "id": "JddDqNZdcWFW",
        "colab_type": "code",
        "colab": {}
      },
      "source": [
        ""
      ],
      "execution_count": 0,
      "outputs": []
    }
  ]
}